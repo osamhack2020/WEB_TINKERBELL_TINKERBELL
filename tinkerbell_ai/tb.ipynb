{
 "cells": [
  {
   "cell_type": "code",
   "execution_count": 1,
   "metadata": {},
   "outputs": [],
   "source": [
    "from konlpy.tag import Okt\n",
    "import json\n",
    "import numpy\n",
    "\n",
    "stemmer = Okt()\n",
    "# https://towardsdatascience.com/build-it-yourself-chatbot-api-with-keras-tensorflow-model-f6d75ce957a5"
   ]
  },
  {
   "cell_type": "code",
   "execution_count": 2,
   "metadata": {},
   "outputs": [],
   "source": [
    "with open('./intents.json', encoding=\"utf8\") as file:\n",
    "    data = json.load(file)"
   ]
  },
  {
   "cell_type": "code",
   "execution_count": 3,
   "metadata": {},
   "outputs": [],
   "source": [
    "words = []\n",
    "labels = []\n",
    "docs_x = []\n",
    "docs_y = []"
   ]
  },
  {
   "cell_type": "code",
   "execution_count": 4,
   "metadata": {},
   "outputs": [],
   "source": [
    "# 패턴들을 읽습니다 \n",
    "for intent in data['intents']:\n",
    "    for pattern in intent['patterns']:\n",
    "        #패턴들을 형태소로 부수어 줍니다  \n",
    "        wrds = []\n",
    "        wrds_temp = stemmer.pos(pattern, norm=True, stem=True)\n",
    "        #조사, 어미, punctuation은 제외해줍니다 \n",
    "        for word in wrds_temp:\n",
    "            if not word[1] in [\"Josa\",\"Eomi\",\"Punctuation\"]:\n",
    "                wrds.append(word[0])\n",
    "        words.extend(wrds)\n",
    "        docs_x.append(wrds)\n",
    "        docs_y.append(intent[\"tag\"])\n",
    "        \n",
    "    if intent['tag'] not in labels:\n",
    "        labels.append(intent['tag'])"
   ]
  },
  {
   "cell_type": "code",
   "execution_count": 5,
   "metadata": {},
   "outputs": [],
   "source": [
    "# words리스트에서 중복되는 단어를 제거하고 정렬합니다 \n",
    "words = sorted(list(set(words)))"
   ]
  },
  {
   "cell_type": "code",
   "execution_count": 6,
   "metadata": {},
   "outputs": [
    {
     "name": "stdout",
     "output_type": "stream",
     "text": [
      "개수: 100\n",
      "['ATCIS', 'Drive', 'KMA', 'S', 'TACS', 'drive', 's', 'sdrive', 'voip', '가다', '계속', '계정', '고장', '국', '국방', '기억', '까먹다', '깔다', '나다', '나오다', '네트워크', '다', '도', '도식', '돼다', '들어가다', '들어오다', '떨어지다', '뜨다', '랜선', '로그인', '로딩', '마운트', '망', '먹통', '문서', '밉다', '받다', '발생', '방망이', '불', '비밀번호', '사라지다', '상황', '생각', '생기다', '설치', '설치다', '수', '수고', '실패하다', '써다', '아이디', '안', '안나', '안녕', '안녕하다', '안되다', '안보', '안해', '암호', '야하다', '어떻다', '없다', '여요', '연결하다', '예비', '오류', '음', '이다', '인트라넷', '잉크', '작동', '잠기다', '잡히다', '재', '전환', '접속', '주', '중', '초기', '충성', '탁스', '토너', '파일', '페이지', '프로그램', '프린터', '필수', '필승', '필요하다', '하', '하다', '하이', '해', '해당', '해주다', '홈페이지', '화', '화가']\n"
     ]
    }
   ],
   "source": [
    "print(\"개수: \" + str(len(words)))\n",
    "print(words)"
   ]
  },
  {
   "cell_type": "code",
   "execution_count": 7,
   "metadata": {},
   "outputs": [
    {
     "name": "stdout",
     "output_type": "stream",
     "text": [
      "개수: 12\n",
      "['greeting', 'intranet', 'sanghwangdo', 'KMA', 'juyebi', 'TACS', 's-drive', 'printer', 'toner', 'password', 'network', 'ess_sw']\n"
     ]
    }
   ],
   "source": [
    "print(\"개수: \" + str(len(labels)))\n",
    "print(labels)"
   ]
  },
  {
   "cell_type": "code",
   "execution_count": 8,
   "metadata": {},
   "outputs": [
    {
     "name": "stdout",
     "output_type": "stream",
     "text": [
      "개수: 70\n",
      "[['안녕하다'], ['안녕'], ['수고', '하다'], ['필승'], ['충성'], ['하이'], ['해당', '페이지', '접속', '하다', '수', '없다', '나오다'], ['계속', '로딩', '중', '이다'], ['국', '방망이', '안되다'], ['인트라넷', '떨어지다'], ['인트라넷', '작동', '안해'], ['국방', '망', '접속', '안', '돼다'], ['홈페이지', '안', '들어가다'], ['상황', '도', '안', '나오다'], ['ATCIS', '상황', '도식', '안', '돼다'], ['ATCIS', '상황', '도', '안', '뜨다'], ['KMA', '오류', '뜨다'], ['KMA', '오류', '발생', '하다'], ['KMA', '오류', '나오다'], ['주', '예비', '전환', '어떻다', '해'], ['ATCIS', '주', '예비'], ['TACS', '가다', '안', '돼다'], ['TACS', '가다', '안', '깔다'], ['TACS', '설치', '안', '돼다'], ['TACS', '재', '설치', '안', '돼다'], ['탁스', '안', '돼다'], ['탁스', '안', '깔다'], ['탁스', '설치', '안', '돼다'], ['탁스', '재', '설치', '안', '돼다'], ['문서', '암호', '화가', '안', '돼다'], ['sdrive'], ['S', 'Drive'], ['s', 'drive', '마운트', '안', '돼다'], ['파일', '안보', '여요'], ['파일', '사라지다'], ['프린터', '안', '돼다'], ['프린터', '고장', '나다'], ['프린터', '안', '잡히다'], ['프린터', '오류', '뜨다'], ['프린터', '오류', '발생', '하다'], ['프린터', '오류', '생기다'], ['프린터', '오류', '나다'], ['프린터', '토너', '다', '써다'], ['잉크', '다', '떨어지다'], ['토너', '없다'], ['잉크', '필요하다'], ['토너', '받다', '야하다'], ['잉크', '필요하다'], ['토너', '다', '써다'], ['계정', '안', '돼다'], ['아이디', '잠기다'], ['비밀번호', '까먹다'], ['로그인', '안', '돼다'], ['로그인', '실패하다'], ['비밀번호', '초기', '화', '해주다'], ['비밀번호', '기억', '안나'], ['비밀번호', '생각', '안나'], ['랜선', '불', '안', '들어오다'], ['네트워크', '연결하다', '수', '없다', '뜨다'], ['네트워크', '연결하다', '수', '없다', '나오다'], ['네트워크', '연결하다', '수', '없다', '음', '뜨다'], ['voip', '가다', '안', '돼다'], ['voip', '가다', '먹통'], ['voip', '가다', '고장', '나다'], ['필수', '프로그램', '설치', '하', '뜨다'], ['필수', '프로그램', '설치', '하', '나오다'], ['필수', '프로그램', '설치다'], ['필수', '프로그램', '밉다', '설치다'], ['필수', '프로그램', '밉다', '설치', '나오다'], ['필수', '프로그램', '밉다', '설치', '뜨다']]\n"
     ]
    }
   ],
   "source": [
    "print(\"개수: \" + str(len(docs_x)))\n",
    "print(docs_x)"
   ]
  },
  {
   "cell_type": "code",
   "execution_count": 9,
   "metadata": {},
   "outputs": [
    {
     "name": "stdout",
     "output_type": "stream",
     "text": [
      "개수: 70\n",
      "['greeting', 'greeting', 'greeting', 'greeting', 'greeting', 'greeting', 'intranet', 'intranet', 'intranet', 'intranet', 'intranet', 'intranet', 'intranet', 'sanghwangdo', 'sanghwangdo', 'sanghwangdo', 'KMA', 'KMA', 'KMA', 'juyebi', 'juyebi', 'TACS', 'TACS', 'TACS', 'TACS', 'TACS', 'TACS', 'TACS', 'TACS', 's-drive', 's-drive', 's-drive', 's-drive', 's-drive', 's-drive', 'printer', 'printer', 'printer', 'printer', 'printer', 'printer', 'printer', 'toner', 'toner', 'toner', 'toner', 'toner', 'toner', 'toner', 'password', 'password', 'password', 'password', 'password', 'password', 'password', 'password', 'network', 'network', 'network', 'network', 'network', 'network', 'network', 'ess_sw', 'ess_sw', 'ess_sw', 'ess_sw', 'ess_sw', 'ess_sw']\n"
     ]
    }
   ],
   "source": [
    "print(\"개수: \" + str(len(docs_y)))\n",
    "print(docs_y)"
   ]
  },
  {
   "cell_type": "code",
   "execution_count": 10,
   "metadata": {},
   "outputs": [],
   "source": [
    "# 트레이닝 데이터\n",
    "training = []\n",
    "# output 데이터\n",
    "output = []\n",
    "# 빈 output 리스트\n",
    "out_empty = [0 for _ in range(len(labels))]"
   ]
  },
  {
   "cell_type": "code",
   "execution_count": 11,
   "metadata": {},
   "outputs": [],
   "source": [
    "# docs_x를 bag of words로 바꾸어준다 \n",
    "for x, doc in enumerate(docs_x):\n",
    "    bag = []\n",
    "\n",
    "    for w in words:\n",
    "        if w in doc:\n",
    "            bag.append(1)\n",
    "        else:\n",
    "            bag.append(0)\n",
    "\n",
    "    output_row = out_empty[:]\n",
    "    output_row[labels.index(docs_y[x])] = 1\n",
    "\n",
    "    training.append(bag)\n",
    "    output.append(output_row)"
   ]
  },
  {
   "cell_type": "code",
   "execution_count": 12,
   "metadata": {},
   "outputs": [],
   "source": [
    "training = numpy.array(training)\n",
    "output = numpy.array(output)"
   ]
  },
  {
   "cell_type": "code",
   "execution_count": 13,
   "metadata": {},
   "outputs": [],
   "source": [
    "from tensorflow.keras import Sequential\n",
    "from tensorflow.keras.layers import Dense, Activation, Dropout\n",
    "from tensorflow.keras.optimizers import SGD"
   ]
  },
  {
   "cell_type": "code",
   "execution_count": 14,
   "metadata": {},
   "outputs": [],
   "source": [
    "model = Sequential()\n",
    "model.add(Dense(128, input_shape=(len(training[0]),), activation='relu'))\n",
    "model.add(Dropout(0.5))\n",
    "model.add(Dense(64, activation='relu'))\n",
    "model.add(Dropout(0.5))\n",
    "model.add(Dense(len(output[0]), activation='softmax'))"
   ]
  },
  {
   "cell_type": "code",
   "execution_count": 15,
   "metadata": {},
   "outputs": [],
   "source": [
    "# Compile model. Stochastic gradient descent with Nesterov accelerated gradient gives good results for this model\n",
    "sgd = SGD(lr=0.01, decay=1e-6, momentum=0.9, nesterov=True)\n",
    "model.compile(loss='categorical_crossentropy', optimizer=sgd, metrics=['accuracy'])"
   ]
  },
  {
   "cell_type": "code",
   "execution_count": 16,
   "metadata": {},
   "outputs": [
    {
     "name": "stdout",
     "output_type": "stream",
     "text": [
      "Epoch 1/200\n",
      "14/14 [==============================] - 0s 570us/step - loss: 2.5021 - accuracy: 0.1143\n",
      "Epoch 2/200\n",
      "14/14 [==============================] - 0s 783us/step - loss: 2.4574 - accuracy: 0.1000\n",
      "Epoch 3/200\n",
      "14/14 [==============================] - 0s 641us/step - loss: 2.2811 - accuracy: 0.2429\n",
      "Epoch 4/200\n",
      "14/14 [==============================] - 0s 783us/step - loss: 2.2178 - accuracy: 0.2857\n",
      "Epoch 5/200\n",
      "14/14 [==============================] - 0s 784us/step - loss: 2.0554 - accuracy: 0.3857\n",
      "Epoch 6/200\n",
      "14/14 [==============================] - 0s 10ms/step - loss: 1.9858 - accuracy: 0.3714\n",
      "Epoch 7/200\n",
      "14/14 [==============================] - 0s 714us/step - loss: 1.8649 - accuracy: 0.4571\n",
      "Epoch 8/200\n",
      "14/14 [==============================] - 0s 502us/step - loss: 1.6180 - accuracy: 0.4857\n",
      "Epoch 9/200\n",
      "14/14 [==============================] - 0s 641us/step - loss: 1.5850 - accuracy: 0.5286\n",
      "Epoch 10/200\n",
      "14/14 [==============================] - 0s 784us/step - loss: 1.4934 - accuracy: 0.5714\n",
      "Epoch 11/200\n",
      "14/14 [==============================] - 0s 570us/step - loss: 1.2387 - accuracy: 0.6571\n",
      "Epoch 12/200\n",
      "14/14 [==============================] - 0s 712us/step - loss: 1.1929 - accuracy: 0.6286\n",
      "Epoch 13/200\n",
      "14/14 [==============================] - 0s 712us/step - loss: 1.0809 - accuracy: 0.6857\n",
      "Epoch 14/200\n",
      "14/14 [==============================] - 0s 712us/step - loss: 1.0767 - accuracy: 0.6714\n",
      "Epoch 15/200\n",
      "14/14 [==============================] - 0s 854us/step - loss: 0.9542 - accuracy: 0.7857\n",
      "Epoch 16/200\n",
      "14/14 [==============================] - 0s 641us/step - loss: 0.8444 - accuracy: 0.7857\n",
      "Epoch 17/200\n",
      "14/14 [==============================] - 0s 712us/step - loss: 0.7751 - accuracy: 0.7714\n",
      "Epoch 18/200\n",
      "14/14 [==============================] - 0s 712us/step - loss: 0.5274 - accuracy: 0.8857\n",
      "Epoch 19/200\n",
      "14/14 [==============================] - 0s 569us/step - loss: 0.6295 - accuracy: 0.7857\n",
      "Epoch 20/200\n",
      "14/14 [==============================] - 0s 784us/step - loss: 0.5214 - accuracy: 0.9000\n",
      "Epoch 21/200\n",
      "14/14 [==============================] - 0s 820us/step - loss: 0.5940 - accuracy: 0.8857\n",
      "Epoch 22/200\n",
      "14/14 [==============================] - 0s 712us/step - loss: 0.5678 - accuracy: 0.8429\n",
      "Epoch 23/200\n",
      "14/14 [==============================] - 0s 926us/step - loss: 0.3469 - accuracy: 0.9286\n",
      "Epoch 24/200\n",
      "14/14 [==============================] - 0s 712us/step - loss: 0.3998 - accuracy: 0.9286\n",
      "Epoch 25/200\n",
      "14/14 [==============================] - 0s 570us/step - loss: 0.3999 - accuracy: 0.9000\n",
      "Epoch 26/200\n",
      "14/14 [==============================] - 0s 712us/step - loss: 0.3275 - accuracy: 0.9286\n",
      "Epoch 27/200\n",
      "14/14 [==============================] - 0s 712us/step - loss: 0.3376 - accuracy: 0.9286\n",
      "Epoch 28/200\n",
      "14/14 [==============================] - 0s 748us/step - loss: 0.3788 - accuracy: 0.9000\n",
      "Epoch 29/200\n",
      "14/14 [==============================] - 0s 855us/step - loss: 0.2123 - accuracy: 0.9857\n",
      "Epoch 30/200\n",
      "14/14 [==============================] - 0s 784us/step - loss: 0.2174 - accuracy: 0.9571\n",
      "Epoch 31/200\n",
      "14/14 [==============================] - 0s 783us/step - loss: 0.2932 - accuracy: 0.9286\n",
      "Epoch 32/200\n",
      "14/14 [==============================] - 0s 784us/step - loss: 0.2809 - accuracy: 0.9286\n",
      "Epoch 33/200\n",
      "14/14 [==============================] - 0s 641us/step - loss: 0.2982 - accuracy: 0.9429\n",
      "Epoch 34/200\n",
      "14/14 [==============================] - 0s 1ms/step - loss: 0.2811 - accuracy: 0.9286\n",
      "Epoch 35/200\n",
      "14/14 [==============================] - 0s 926us/step - loss: 0.1953 - accuracy: 0.9571\n",
      "Epoch 36/200\n",
      "14/14 [==============================] - 0s 783us/step - loss: 0.1892 - accuracy: 0.9714\n",
      "Epoch 37/200\n",
      "14/14 [==============================] - 0s 856us/step - loss: 0.1625 - accuracy: 0.9714\n",
      "Epoch 38/200\n",
      "14/14 [==============================] - 0s 641us/step - loss: 0.1652 - accuracy: 0.9714\n",
      "Epoch 39/200\n",
      "14/14 [==============================] - 0s 712us/step - loss: 0.1157 - accuracy: 0.9857\n",
      "Epoch 40/200\n",
      "14/14 [==============================] - 0s 641us/step - loss: 0.1171 - accuracy: 0.9857\n",
      "Epoch 41/200\n",
      "14/14 [==============================] - 0s 926us/step - loss: 0.1639 - accuracy: 0.9714\n",
      "Epoch 42/200\n",
      "14/14 [==============================] - 0s 1ms/step - loss: 0.1188 - accuracy: 1.0000\n",
      "Epoch 43/200\n",
      "14/14 [==============================] - 0s 926us/step - loss: 0.2412 - accuracy: 0.9286\n",
      "Epoch 44/200\n",
      "14/14 [==============================] - 0s 997us/step - loss: 0.1487 - accuracy: 0.9714\n",
      "Epoch 45/200\n",
      "14/14 [==============================] - 0s 641us/step - loss: 0.1610 - accuracy: 0.9571\n",
      "Epoch 46/200\n",
      "14/14 [==============================] - 0s 570us/step - loss: 0.1952 - accuracy: 0.9429\n",
      "Epoch 47/200\n",
      "14/14 [==============================] - 0s 641us/step - loss: 0.1673 - accuracy: 0.9714\n",
      "Epoch 48/200\n",
      "14/14 [==============================] - 0s 712us/step - loss: 0.1062 - accuracy: 0.9857\n",
      "Epoch 49/200\n",
      "14/14 [==============================] - 0s 641us/step - loss: 0.1596 - accuracy: 0.9714\n",
      "Epoch 50/200\n",
      "14/14 [==============================] - 0s 570us/step - loss: 0.1595 - accuracy: 0.9714\n",
      "Epoch 51/200\n",
      "14/14 [==============================] - 0s 712us/step - loss: 0.1165 - accuracy: 0.9857\n",
      "Epoch 52/200\n",
      "14/14 [==============================] - 0s 783us/step - loss: 0.0674 - accuracy: 0.9857\n",
      "Epoch 53/200\n",
      "14/14 [==============================] - 0s 997us/step - loss: 0.1206 - accuracy: 0.9714\n",
      "Epoch 54/200\n",
      "14/14 [==============================] - 0s 1ms/step - loss: 0.0500 - accuracy: 1.0000\n",
      "Epoch 55/200\n",
      "14/14 [==============================] - 0s 997us/step - loss: 0.0775 - accuracy: 0.9714\n",
      "Epoch 56/200\n",
      "14/14 [==============================] - 0s 783us/step - loss: 0.1338 - accuracy: 0.9714\n",
      "Epoch 57/200\n",
      "14/14 [==============================] - 0s 641us/step - loss: 0.0969 - accuracy: 0.9714\n",
      "Epoch 58/200\n",
      "14/14 [==============================] - 0s 783us/step - loss: 0.1187 - accuracy: 0.9571\n",
      "Epoch 59/200\n",
      "14/14 [==============================] - 0s 713us/step - loss: 0.1420 - accuracy: 0.9714\n",
      "Epoch 60/200\n",
      "14/14 [==============================] - 0s 712us/step - loss: 0.1195 - accuracy: 0.9571\n",
      "Epoch 61/200\n",
      "14/14 [==============================] - 0s 641us/step - loss: 0.1098 - accuracy: 0.9714\n",
      "Epoch 62/200\n",
      "14/14 [==============================] - 0s 712us/step - loss: 0.1671 - accuracy: 0.9571\n",
      "Epoch 63/200\n",
      "14/14 [==============================] - 0s 642us/step - loss: 0.0654 - accuracy: 1.0000\n",
      "Epoch 64/200\n",
      "14/14 [==============================] - 0s 712us/step - loss: 0.1181 - accuracy: 0.9714\n",
      "Epoch 65/200\n",
      "14/14 [==============================] - 0s 570us/step - loss: 0.0515 - accuracy: 0.9857\n",
      "Epoch 66/200\n",
      "14/14 [==============================] - 0s 641us/step - loss: 0.0849 - accuracy: 0.9857\n",
      "Epoch 67/200\n",
      "14/14 [==============================] - 0s 499us/step - loss: 0.1101 - accuracy: 0.9714\n",
      "Epoch 68/200\n",
      "14/14 [==============================] - 0s 712us/step - loss: 0.0852 - accuracy: 0.9857\n",
      "Epoch 69/200\n",
      "14/14 [==============================] - 0s 784us/step - loss: 0.0744 - accuracy: 1.0000\n",
      "Epoch 70/200\n",
      "14/14 [==============================] - 0s 570us/step - loss: 0.0737 - accuracy: 0.9857\n",
      "Epoch 71/200\n",
      "14/14 [==============================] - 0s 570us/step - loss: 0.0847 - accuracy: 0.9857\n",
      "Epoch 72/200\n",
      "14/14 [==============================] - 0s 570us/step - loss: 0.0499 - accuracy: 0.9857\n",
      "Epoch 73/200\n",
      "14/14 [==============================] - 0s 640us/step - loss: 0.1183 - accuracy: 0.9571\n",
      "Epoch 74/200\n",
      "14/14 [==============================] - 0s 499us/step - loss: 0.0594 - accuracy: 0.9857\n",
      "Epoch 75/200\n",
      "14/14 [==============================] - 0s 641us/step - loss: 0.0759 - accuracy: 0.9714\n",
      "Epoch 76/200\n",
      "14/14 [==============================] - 0s 641us/step - loss: 0.0578 - accuracy: 0.9857\n",
      "Epoch 77/200\n",
      "14/14 [==============================] - 0s 641us/step - loss: 0.0811 - accuracy: 0.9857\n",
      "Epoch 78/200\n",
      "14/14 [==============================] - 0s 499us/step - loss: 0.0574 - accuracy: 1.0000\n",
      "Epoch 79/200\n",
      "14/14 [==============================] - 0s 570us/step - loss: 0.0596 - accuracy: 0.9857\n",
      "Epoch 80/200\n",
      "14/14 [==============================] - 0s 641us/step - loss: 0.0677 - accuracy: 1.0000\n",
      "Epoch 81/200\n"
     ]
    },
    {
     "name": "stdout",
     "output_type": "stream",
     "text": [
      "14/14 [==============================] - 0s 498us/step - loss: 0.0652 - accuracy: 0.9857\n",
      "Epoch 82/200\n",
      "14/14 [==============================] - ETA: 0s - loss: 0.0568 - accuracy: 1.00 - 0s 570us/step - loss: 0.0183 - accuracy: 1.0000\n",
      "Epoch 83/200\n",
      "14/14 [==============================] - 0s 499us/step - loss: 0.0631 - accuracy: 0.9714\n",
      "Epoch 84/200\n",
      "14/14 [==============================] - 0s 570us/step - loss: 0.0852 - accuracy: 0.9714\n",
      "Epoch 85/200\n",
      "14/14 [==============================] - 0s 499us/step - loss: 0.0352 - accuracy: 1.0000\n",
      "Epoch 86/200\n",
      "14/14 [==============================] - 0s 499us/step - loss: 0.0720 - accuracy: 0.9857\n",
      "Epoch 87/200\n",
      "14/14 [==============================] - 0s 427us/step - loss: 0.0454 - accuracy: 0.9857\n",
      "Epoch 88/200\n",
      "14/14 [==============================] - 0s 641us/step - loss: 0.0761 - accuracy: 0.9714\n",
      "Epoch 89/200\n",
      "14/14 [==============================] - 0s 427us/step - loss: 0.0315 - accuracy: 1.0000\n",
      "Epoch 90/200\n",
      "14/14 [==============================] - 0s 570us/step - loss: 0.0616 - accuracy: 1.0000\n",
      "Epoch 91/200\n",
      "14/14 [==============================] - 0s 427us/step - loss: 0.0395 - accuracy: 1.0000\n",
      "Epoch 92/200\n",
      "14/14 [==============================] - 0s 499us/step - loss: 0.0363 - accuracy: 1.0000\n",
      "Epoch 93/200\n",
      "14/14 [==============================] - 0s 499us/step - loss: 0.0354 - accuracy: 1.0000\n",
      "Epoch 94/200\n",
      "14/14 [==============================] - 0s 427us/step - loss: 0.0689 - accuracy: 0.9714\n",
      "Epoch 95/200\n",
      "14/14 [==============================] - 0s 499us/step - loss: 0.0851 - accuracy: 0.9857\n",
      "Epoch 96/200\n",
      "14/14 [==============================] - 0s 427us/step - loss: 0.0725 - accuracy: 0.9857\n",
      "Epoch 97/200\n",
      "14/14 [==============================] - 0s 570us/step - loss: 0.0368 - accuracy: 1.0000\n",
      "Epoch 98/200\n",
      "14/14 [==============================] - 0s 427us/step - loss: 0.0722 - accuracy: 0.9714\n",
      "Epoch 99/200\n",
      "14/14 [==============================] - 0s 783us/step - loss: 0.1444 - accuracy: 0.9571\n",
      "Epoch 100/200\n",
      "14/14 [==============================] - 0s 499us/step - loss: 0.0285 - accuracy: 1.0000\n",
      "Epoch 101/200\n",
      "14/14 [==============================] - 0s 427us/step - loss: 0.0483 - accuracy: 1.0000\n",
      "Epoch 102/200\n",
      "14/14 [==============================] - 0s 499us/step - loss: 0.0424 - accuracy: 1.0000\n",
      "Epoch 103/200\n",
      "14/14 [==============================] - 0s 499us/step - loss: 0.0300 - accuracy: 1.0000\n",
      "Epoch 104/200\n",
      "14/14 [==============================] - 0s 641us/step - loss: 0.0379 - accuracy: 1.0000\n",
      "Epoch 105/200\n",
      "14/14 [==============================] - 0s 427us/step - loss: 0.0279 - accuracy: 1.0000\n",
      "Epoch 106/200\n",
      "14/14 [==============================] - 0s 641us/step - loss: 0.0179 - accuracy: 1.0000\n",
      "Epoch 107/200\n",
      "14/14 [==============================] - 0s 570us/step - loss: 0.0909 - accuracy: 0.9571\n",
      "Epoch 108/200\n",
      "14/14 [==============================] - 0s 401us/step - loss: 0.0394 - accuracy: 1.0000\n",
      "Epoch 109/200\n",
      "14/14 [==============================] - 0s 570us/step - loss: 0.0730 - accuracy: 0.9714\n",
      "Epoch 110/200\n",
      "14/14 [==============================] - 0s 499us/step - loss: 0.0446 - accuracy: 0.9857\n",
      "Epoch 111/200\n",
      "14/14 [==============================] - 0s 570us/step - loss: 0.1046 - accuracy: 0.9571\n",
      "Epoch 112/200\n",
      "14/14 [==============================] - 0s 570us/step - loss: 0.0622 - accuracy: 0.9857\n",
      "Epoch 113/200\n",
      "14/14 [==============================] - 0s 427us/step - loss: 0.0569 - accuracy: 0.9857\n",
      "Epoch 114/200\n",
      "14/14 [==============================] - 0s 499us/step - loss: 0.0404 - accuracy: 1.0000\n",
      "Epoch 115/200\n",
      "14/14 [==============================] - 0s 427us/step - loss: 0.0611 - accuracy: 0.9857\n",
      "Epoch 116/200\n",
      "14/14 [==============================] - 0s 570us/step - loss: 0.0324 - accuracy: 0.9857\n",
      "Epoch 117/200\n",
      "14/14 [==============================] - 0s 427us/step - loss: 0.0222 - accuracy: 1.0000\n",
      "Epoch 118/200\n",
      "14/14 [==============================] - 0s 570us/step - loss: 0.0341 - accuracy: 0.9857\n",
      "Epoch 119/200\n",
      "14/14 [==============================] - 0s 570us/step - loss: 0.0368 - accuracy: 1.0000\n",
      "Epoch 120/200\n",
      "14/14 [==============================] - 0s 499us/step - loss: 0.0413 - accuracy: 0.9857\n",
      "Epoch 121/200\n",
      "14/14 [==============================] - 0s 712us/step - loss: 0.0371 - accuracy: 0.9857\n",
      "Epoch 122/200\n",
      "14/14 [==============================] - 0s 428us/step - loss: 0.0747 - accuracy: 0.9714\n",
      "Epoch 123/200\n",
      "14/14 [==============================] - 0s 498us/step - loss: 0.0680 - accuracy: 0.9714\n",
      "Epoch 124/200\n",
      "14/14 [==============================] - 0s 499us/step - loss: 0.0896 - accuracy: 0.9714\n",
      "Epoch 125/200\n",
      "14/14 [==============================] - 0s 427us/step - loss: 0.0311 - accuracy: 0.9857\n",
      "Epoch 126/200\n",
      "14/14 [==============================] - 0s 570us/step - loss: 0.0253 - accuracy: 1.0000\n",
      "Epoch 127/200\n",
      "14/14 [==============================] - 0s 427us/step - loss: 0.0445 - accuracy: 0.9857\n",
      "Epoch 128/200\n",
      "14/14 [==============================] - 0s 641us/step - loss: 0.0721 - accuracy: 0.9714\n",
      "Epoch 129/200\n",
      "14/14 [==============================] - 0s 500us/step - loss: 0.0172 - accuracy: 1.0000\n",
      "Epoch 130/200\n",
      "14/14 [==============================] - 0s 570us/step - loss: 0.0210 - accuracy: 1.0000\n",
      "Epoch 131/200\n",
      "14/14 [==============================] - 0s 499us/step - loss: 0.0451 - accuracy: 1.0000\n",
      "Epoch 132/200\n",
      "14/14 [==============================] - 0s 499us/step - loss: 0.0253 - accuracy: 1.0000\n",
      "Epoch 133/200\n",
      "14/14 [==============================] - 0s 855us/step - loss: 0.0274 - accuracy: 0.9857\n",
      "Epoch 134/200\n",
      "14/14 [==============================] - 0s 641us/step - loss: 0.0304 - accuracy: 0.9857\n",
      "Epoch 135/200\n",
      "14/14 [==============================] - 0s 427us/step - loss: 0.0256 - accuracy: 1.0000\n",
      "Epoch 136/200\n",
      "14/14 [==============================] - 0s 499us/step - loss: 0.0555 - accuracy: 0.9857\n",
      "Epoch 137/200\n",
      "14/14 [==============================] - 0s 570us/step - loss: 0.0450 - accuracy: 0.9857\n",
      "Epoch 138/200\n",
      "14/14 [==============================] - 0s 556us/step - loss: 0.0400 - accuracy: 0.9857\n",
      "Epoch 139/200\n",
      "14/14 [==============================] - 0s 641us/step - loss: 0.0621 - accuracy: 0.9714\n",
      "Epoch 140/200\n",
      "14/14 [==============================] - 0s 499us/step - loss: 0.0303 - accuracy: 1.0000\n",
      "Epoch 141/200\n",
      "14/14 [==============================] - 0s 499us/step - loss: 0.1136 - accuracy: 0.9429\n",
      "Epoch 142/200\n",
      "14/14 [==============================] - 0s 499us/step - loss: 0.0333 - accuracy: 1.0000\n",
      "Epoch 143/200\n",
      "14/14 [==============================] - 0s 499us/step - loss: 0.0312 - accuracy: 1.0000\n",
      "Epoch 144/200\n",
      "14/14 [==============================] - 0s 570us/step - loss: 0.0638 - accuracy: 0.9857\n",
      "Epoch 145/200\n",
      "14/14 [==============================] - 0s 498us/step - loss: 0.0401 - accuracy: 0.9857\n",
      "Epoch 146/200\n",
      "14/14 [==============================] - 0s 570us/step - loss: 0.0556 - accuracy: 0.9857\n",
      "Epoch 147/200\n",
      "14/14 [==============================] - ETA: 0s - loss: 0.2993 - accuracy: 1.00 - 0s 499us/step - loss: 0.0326 - accuracy: 1.0000\n",
      "Epoch 148/200\n",
      "14/14 [==============================] - 0s 570us/step - loss: 0.0148 - accuracy: 1.0000\n",
      "Epoch 149/200\n",
      "14/14 [==============================] - 0s 641us/step - loss: 0.0277 - accuracy: 1.0000\n",
      "Epoch 150/200\n",
      "14/14 [==============================] - 0s 427us/step - loss: 0.0812 - accuracy: 0.9857\n",
      "Epoch 151/200\n",
      "14/14 [==============================] - 0s 427us/step - loss: 0.0141 - accuracy: 1.0000\n",
      "Epoch 152/200\n",
      "14/14 [==============================] - 0s 499us/step - loss: 0.0100 - accuracy: 1.0000\n",
      "Epoch 153/200\n",
      "14/14 [==============================] - 0s 712us/step - loss: 0.0072 - accuracy: 1.0000\n",
      "Epoch 154/200\n",
      "14/14 [==============================] - 0s 926us/step - loss: 0.0030 - accuracy: 1.0000\n",
      "Epoch 155/200\n",
      "14/14 [==============================] - 0s 713us/step - loss: 0.0484 - accuracy: 0.9857\n",
      "Epoch 156/200\n",
      "14/14 [==============================] - 0s 641us/step - loss: 0.0467 - accuracy: 1.0000\n",
      "Epoch 157/200\n",
      "14/14 [==============================] - 0s 570us/step - loss: 0.0279 - accuracy: 1.0000\n",
      "Epoch 158/200\n",
      "14/14 [==============================] - 0s 641us/step - loss: 0.0713 - accuracy: 0.9571\n",
      "Epoch 159/200\n",
      "14/14 [==============================] - 0s 641us/step - loss: 0.1085 - accuracy: 0.9571\n",
      "Epoch 160/200\n"
     ]
    },
    {
     "name": "stdout",
     "output_type": "stream",
     "text": [
      "14/14 [==============================] - 0s 427us/step - loss: 0.0173 - accuracy: 1.0000\n",
      "Epoch 161/200\n",
      "14/14 [==============================] - 0s 641us/step - loss: 0.0103 - accuracy: 1.0000\n",
      "Epoch 162/200\n",
      "14/14 [==============================] - 0s 570us/step - loss: 0.0253 - accuracy: 1.0000\n",
      "Epoch 163/200\n",
      "14/14 [==============================] - 0s 570us/step - loss: 0.0334 - accuracy: 0.9857\n",
      "Epoch 164/200\n",
      "14/14 [==============================] - 0s 570us/step - loss: 0.0251 - accuracy: 0.9857\n",
      "Epoch 165/200\n",
      "14/14 [==============================] - 0s 499us/step - loss: 0.0420 - accuracy: 0.9857\n",
      "Epoch 166/200\n",
      "14/14 [==============================] - 0s 499us/step - loss: 0.0072 - accuracy: 1.0000\n",
      "Epoch 167/200\n",
      "14/14 [==============================] - 0s 535us/step - loss: 0.0548 - accuracy: 0.9857\n",
      "Epoch 168/200\n",
      "14/14 [==============================] - 0s 499us/step - loss: 0.0165 - accuracy: 1.0000\n",
      "Epoch 169/200\n",
      "14/14 [==============================] - 0s 570us/step - loss: 0.0087 - accuracy: 1.0000\n",
      "Epoch 170/200\n",
      "14/14 [==============================] - 0s 427us/step - loss: 0.0223 - accuracy: 1.0000\n",
      "Epoch 171/200\n",
      "14/14 [==============================] - 0s 570us/step - loss: 0.0176 - accuracy: 1.0000\n",
      "Epoch 172/200\n",
      "14/14 [==============================] - 0s 499us/step - loss: 0.0618 - accuracy: 0.9714\n",
      "Epoch 173/200\n",
      "14/14 [==============================] - 0s 498us/step - loss: 0.0673 - accuracy: 0.9714\n",
      "Epoch 174/200\n",
      "14/14 [==============================] - 0s 784us/step - loss: 0.0118 - accuracy: 1.0000\n",
      "Epoch 175/200\n",
      "14/14 [==============================] - 0s 499us/step - loss: 0.0507 - accuracy: 0.9857\n",
      "Epoch 176/200\n",
      "14/14 [==============================] - 0s 499us/step - loss: 0.0327 - accuracy: 1.0000\n",
      "Epoch 177/200\n",
      "14/14 [==============================] - 0s 570us/step - loss: 0.0293 - accuracy: 0.9857\n",
      "Epoch 178/200\n",
      "14/14 [==============================] - 0s 427us/step - loss: 0.0313 - accuracy: 1.0000\n",
      "Epoch 179/200\n",
      "14/14 [==============================] - 0s 641us/step - loss: 0.0126 - accuracy: 1.0000\n",
      "Epoch 180/200\n",
      "14/14 [==============================] - 0s 427us/step - loss: 0.0170 - accuracy: 1.0000\n",
      "Epoch 181/200\n",
      "14/14 [==============================] - 0s 498us/step - loss: 0.0158 - accuracy: 1.0000\n",
      "Epoch 182/200\n",
      "14/14 [==============================] - 0s 499us/step - loss: 0.0296 - accuracy: 1.0000\n",
      "Epoch 183/200\n",
      "14/14 [==============================] - 0s 427us/step - loss: 0.0148 - accuracy: 1.0000\n",
      "Epoch 184/200\n",
      "14/14 [==============================] - 0s 499us/step - loss: 0.0214 - accuracy: 1.0000\n",
      "Epoch 185/200\n",
      "14/14 [==============================] - 0s 427us/step - loss: 0.0541 - accuracy: 0.9857\n",
      "Epoch 186/200\n",
      "14/14 [==============================] - 0s 641us/step - loss: 0.1171 - accuracy: 0.9714\n",
      "Epoch 187/200\n",
      "14/14 [==============================] - 0s 499us/step - loss: 0.0453 - accuracy: 0.9857\n",
      "Epoch 188/200\n",
      "14/14 [==============================] - 0s 570us/step - loss: 0.0339 - accuracy: 0.9857\n",
      "Epoch 189/200\n",
      "14/14 [==============================] - 0s 499us/step - loss: 0.0275 - accuracy: 0.9857\n",
      "Epoch 190/200\n",
      "14/14 [==============================] - 0s 498us/step - loss: 0.0331 - accuracy: 1.0000\n",
      "Epoch 191/200\n",
      "14/14 [==============================] - 0s 712us/step - loss: 0.0424 - accuracy: 0.9857\n",
      "Epoch 192/200\n",
      "14/14 [==============================] - 0s 570us/step - loss: 0.0244 - accuracy: 1.0000\n",
      "Epoch 193/200\n",
      "14/14 [==============================] - 0s 498us/step - loss: 0.0314 - accuracy: 1.0000\n",
      "Epoch 194/200\n",
      "14/14 [==============================] - 0s 569us/step - loss: 0.0172 - accuracy: 1.0000\n",
      "Epoch 195/200\n",
      "14/14 [==============================] - 0s 428us/step - loss: 0.0360 - accuracy: 0.9714\n",
      "Epoch 196/200\n",
      "14/14 [==============================] - 0s 712us/step - loss: 0.0256 - accuracy: 0.9857\n",
      "Epoch 197/200\n",
      "14/14 [==============================] - 0s 712us/step - loss: 0.0035 - accuracy: 1.0000\n",
      "Epoch 198/200\n",
      "14/14 [==============================] - 0s 427us/step - loss: 0.0071 - accuracy: 1.0000\n",
      "Epoch 199/200\n",
      "14/14 [==============================] - 0s 570us/step - loss: 0.0208 - accuracy: 1.0000\n",
      "Epoch 200/200\n",
      "14/14 [==============================] - 0s 499us/step - loss: 0.0601 - accuracy: 0.9857\n"
     ]
    },
    {
     "data": {
      "text/plain": [
       "<tensorflow.python.keras.callbacks.History at 0x218469f53a0>"
      ]
     },
     "execution_count": 16,
     "metadata": {},
     "output_type": "execute_result"
    }
   ],
   "source": [
    "model.fit(training, output, epochs=200, batch_size=5, verbose=1)"
   ]
  },
  {
   "cell_type": "code",
   "execution_count": 69,
   "metadata": {},
   "outputs": [],
   "source": [
    "input_sentence = \"프린터가 맛탱이갔어요\""
   ]
  },
  {
   "cell_type": "code",
   "execution_count": 70,
   "metadata": {},
   "outputs": [
    {
     "name": "stdout",
     "output_type": "stream",
     "text": [
      "100\n"
     ]
    }
   ],
   "source": [
    "input_bag = []\n",
    "input_words = stemmer.pos(input_sentence, norm=True, stem=True)\n",
    "processed_input = []\n",
    "\n",
    "for word in input_words: \n",
    "    if not word[1] in [\"Josa\",\"Eomi\",\"Punctuation\"]:\n",
    "        processed_input.append(word[0])\n",
    "\n",
    "for word in words:\n",
    "    if word in processed_input:\n",
    "        input_bag.append(1)\n",
    "    else:\n",
    "        input_bag.append(0)"
   ]
  },
  {
   "cell_type": "code",
   "execution_count": 71,
   "metadata": {},
   "outputs": [],
   "source": [
    "import pandas as pd \n",
    "inputvar = pd.DataFrame([numpy.array(input_bag)], dtype=float, index=['input'])\n",
    "\n",
    "output = model.predict(inputvar)"
   ]
  },
  {
   "cell_type": "code",
   "execution_count": 72,
   "metadata": {},
   "outputs": [
    {
     "data": {
      "text/plain": [
       "7"
      ]
     },
     "execution_count": 72,
     "metadata": {},
     "output_type": "execute_result"
    }
   ],
   "source": [
    "numpy.argmax(output)"
   ]
  },
  {
   "cell_type": "code",
   "execution_count": null,
   "metadata": {},
   "outputs": [],
   "source": []
  }
 ],
 "metadata": {
  "kernelspec": {
   "display_name": "Python 3",
   "language": "python",
   "name": "python3"
  },
  "language_info": {
   "codemirror_mode": {
    "name": "ipython",
    "version": 3
   },
   "file_extension": ".py",
   "mimetype": "text/x-python",
   "name": "python",
   "nbconvert_exporter": "python",
   "pygments_lexer": "ipython3",
   "version": "3.8.6"
  }
 },
 "nbformat": 4,
 "nbformat_minor": 4
}
